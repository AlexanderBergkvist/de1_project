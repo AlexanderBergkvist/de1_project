{
 "cells": [
  {
   "cell_type": "code",
   "execution_count": 1,
   "metadata": {},
   "outputs": [],
   "source": [
    "from pyspark import SparkConf\n",
    "from pyspark import SparkContext\n",
    "from pyspark.sql import SparkSession\n",
    "from operator import add\n",
    "import nltk\n",
    "import json\n",
    "#nltk.download('punkt')\n",
    "#nltk.download('averaged_perceptron_tagger')\n",
    "\n"
   ]
  },
  {
   "cell_type": "code",
   "execution_count": 2,
   "metadata": {},
   "outputs": [],
   "source": [
    "# ta bort\n",
    "#confSpark = SparkConf().set(\"spark.driver.bindAddress\", \"localhost\")\n",
    "#sc = SparkContext(\"local[*]\", \"appname\", conf = confSpark)\n",
    "\n",
    "\"\"\"# New API\n",
    "spark_session = SparkSession\\\n",
    "        .builder\\\n",
    "        .master(\"spark://192.168.2.119:7077\") \\\n",
    "        .appName(\"TestApp\")\\\n",
    "        .config(\"spark.dynamicAllocation.enabled\", True)\\\n",
    "        .config(\"spark.shuffle.service.enabled\", True)\\\n",
    "        .config(\"spark.executor.cores\",2)\\\n",
    "        .getOrCreate()\n",
    "\n",
    "\n",
    "# Old API (RDD)\n",
    "spark_context = spark_session.sparkContext\n",
    "\n",
    "spark_context.setLogLevel(\"INFO\")\"\"\"\n",
    "conf = SparkConf()\n",
    "conf.setMaster('spark://192.168.2.119:7077')\n",
    "conf.setAppName('YEEHAW2')\n",
    "spark_context = SparkContext(conf=conf)"
   ]
  },
  {
   "cell_type": "code",
   "execution_count": 3,
   "metadata": {},
   "outputs": [],
   "source": [
    "\"\"\"rdd = spark_context.newAPIHadoopFile(\n",
    "    'RC_2005-12',\n",
    "    'org.apache.hadoop.mapreduce.lib.input.TextInputFormat',\n",
    "    'org.apache.hadoop.io.LongWritable',\n",
    "    'org.apache.hadoop.io.Text'\n",
    ")\\\n",
    ".cache()\"\"\"\n",
    "#hdfs://localhost:9000\n",
    "rdd = spark_context.newAPIHadoopFile(\n",
    "    'hdfs://localhost:9000/user/ubuntu/RC_2006-02',\n",
    "    'org.apache.hadoop.mapreduce.lib.input.TextInputFormat',\n",
    "    'org.apache.hadoop.io.LongWritable',\n",
    "    'org.apache.hadoop.io.Text'\n",
    ")"
   ]
  },
  {
   "cell_type": "code",
   "execution_count": 4,
   "metadata": {},
   "outputs": [
    {
     "data": {
      "text/plain": [
       "[(0,\n",
       "  '{\"created_utc\":1138752114,\"author_flair_css_class\":null,\"score\":0,\"ups\":0,\"subreddit\":\"reddit.com\",\"stickied\":false,\"link_id\":\"t3_15xh\",\"subreddit_id\":\"t5_6\",\"body\":\"THAN the title suggests.  Whoops.\",\"controversiality\":1,\"retrieved_on\":1473820870,\"distinguished\":null,\"gilded\":0,\"id\":\"c166b\",\"edited\":false,\"parent_id\":\"t3_15xh\",\"author\":\"gmcg\",\"author_flair_text\":null}'),\n",
       " (372,\n",
       "  '{\"author_flair_text\":null,\"author\":\"joshuaknox\",\"id\":\"c166d\",\"parent_id\":\"t3_15tx\",\"edited\":false,\"gilded\":0,\"retrieved_on\":1473820870,\"distinguished\":null,\"controversiality\":0,\"body\":\"Thank you, willis3000.  This seems to be bunk:  self-discipline doesn\\'t standard-deviation out well.  How do you measure it?   It, unlike IQ, is highly subjective, and non-controversial.  \\\\r\\\\n\\\\r\\\\nPerhaps more importantly, a two year study of eighth graders is just crap.   If they check back in in twenty years or so, this would perhaps have a shred of validity, but not a heck of a lot happens with eighth graders.  They tend not to start companies, write code or even novels, for whatever reason.   \\\\r\\\\n\\\\r\\\\nI agree fundamentally that self-discipline is important, but even the most disciplined person cannot teach themselves eg, Lisp, if they lack the cerebral capacity.\",\"stickied\":false,\"link_id\":\"t3_15tx\",\"subreddit_id\":\"t5_6\",\"subreddit\":\"reddit.com\",\"created_utc\":1138752261,\"author_flair_css_class\":null,\"score\":2,\"ups\":2}'),\n",
       " (1389,\n",
       "  '{\"distinguished\":null,\"retrieved_on\":1473820870,\"gilded\":0,\"edited\":false,\"id\":\"c166g\",\"parent_id\":\"t3_15e7\",\"author\":\"rah\",\"author_flair_text\":null,\"score\":-6,\"ups\":-6,\"created_utc\":1138752275,\"author_flair_css_class\":null,\"subreddit\":\"reddit.com\",\"subreddit_id\":\"t5_6\",\"stickied\":false,\"link_id\":\"t3_15e7\",\"body\":\"This was the first Paul Graham article I read that brought me to the realisation that, like many bright people, Paul does not realise the boundary where the intelligence of his insights cease.\\\\r\\\\n\\\\r\\\\nNot terrible.  But it really did bring me to the opinion that Paul is oblivious about (at least some of) his own limitations.\",\"controversiality\":0}')]"
      ]
     },
     "execution_count": 4,
     "metadata": {},
     "output_type": "execute_result"
    }
   ],
   "source": [
    "rdd.take(3)"
   ]
  },
  {
   "cell_type": "code",
   "execution_count": 5,
   "metadata": {},
   "outputs": [
    {
     "name": "stdout",
     "output_type": "stream",
     "text": [
      "9095\n"
     ]
    }
   ],
   "source": [
    "print(rdd.count())"
   ]
  },
  {
   "cell_type": "code",
   "execution_count": 7,
   "metadata": {},
   "outputs": [],
   "source": [
    "gram_groups = dict()\n",
    "gram_groups['Adjectives'] = ['JJ', 'JJR', 'JJS']\n",
    "gram_groups['Nouns'] = ['NN', 'NNS', 'NNP', 'NNPS']\n",
    "gram_groups['Pronouns'] = ['PRP', 'PRP$']\n",
    "gram_groups['Adverbs'] = ['RB', 'RBR', 'RBS']\n",
    "gram_groups['Verb'] = ['VB', 'VBG', 'VBD', 'VBN', 'VBP', 'VBZ']"
   ]
  },
  {
   "cell_type": "code",
   "execution_count": 8,
   "metadata": {},
   "outputs": [],
   "source": [
    "def get_split_body(rdd):\n",
    "    body = rdd\\\n",
    "    .map(lambda line: json.loads(line[1])['body'].strip().split())\\\n",
    "\n",
    "    return body\n",
    "\n",
    "def check_gram_grp(tag_tuple):\n",
    "    word, tag = tag_tuple\n",
    "    for supergroup, subgroups in gram_groups.items():\n",
    "                if tag in subgroups:\n",
    "                    return supergroup\n",
    "    return None\n",
    "\n",
    "def categorize_words(split_rdd):\n",
    "    cat_words = split_rdd.flatMap(lambda word: nltk.pos_tag(word))\\\n",
    "    .map(lambda tupl: (check_gram_grp(tupl), 1))\\\n",
    "    .filter(lambda x: x[0] != None)\n",
    "   \n",
    "    return cat_words"
   ]
  },
  {
   "cell_type": "code",
   "execution_count": 9,
   "metadata": {},
   "outputs": [
    {
     "name": "stdout",
     "output_type": "stream",
     "text": [
      "[('Nouns', 105628), ('Verb', 67969), ('Adjectives', 33098), ('Pronouns', 23351), ('Adverbs', 20242)]\n"
     ]
    }
   ],
   "source": [
    "split = get_split_body(rdd)\n",
    "categorized = categorize_words(split)\n",
    "group_counts = categorized.reduceByKey(add).collect()\n",
    "print(group_counts)"
   ]
  },
  {
   "cell_type": "code",
   "execution_count": 2,
   "metadata": {},
   "outputs": [
    {
     "name": "stdout",
     "output_type": "stream",
     "text": [
      "250288\n"
     ]
    }
   ],
   "source": [
    "#group_counts = [('Nouns', 105628), ('Verb', 67969), ('Adjectives', 33098), ('Pronouns', 23351), ('Adverbs', 20242)]\n",
    "total = sum([gram_grp[1] for gram_grp in group_counts])\n",
    "group_counts_norm = [(x[0], x[1]/total) for x in group_counts]\n",
    "print(total)"
   ]
  },
  {
   "cell_type": "code",
   "execution_count": 3,
   "metadata": {},
   "outputs": [
    {
     "data": {
      "image/png": "[encoded data removed]",
      "text/plain": [
       "<Figure size 432x288 with 1 Axes>"
      ]
     },
     "metadata": {
      "needs_background": "light"
     },
     "output_type": "display_data"
    }
   ],
   "source": [
    "# plot of the grammatical classes\n",
    "import matplotlib.pyplot as plt\n",
    "grammatical_group = []\n",
    "numbers = []\n",
    "for gram_group, num in group_counts:\n",
    "    grammatical_group.append(gram_group)\n",
    "    numbers.append(num)\n",
    "    \n",
    "plt.plot(grammatical_group,numbers)\n",
    "plt.show()"
   ]
  },
  {
   "cell_type": "code",
   "execution_count": 4,
   "metadata": {},
   "outputs": [
    {
     "data": {
      "image/png": "[encoded data removed]",
      "text/plain": [
       "<Figure size 432x288 with 1 Axes>"
      ]
     },
     "metadata": {
      "needs_background": "light"
     },
     "output_type": "display_data"
    }
   ],
   "source": [
    "# divided with the total\n",
    "gram_procentage = []\n",
    "for num in numbers:\n",
    "    gram_procentage.append(num/total)\n",
    "\n",
    "plt.plot(grammatical_group,gram_procentage)\n",
    "plt.show()"
   ]
  },
  {
   "cell_type": "markdown",
   "metadata": {},
   "source": [
    "# En annan variant av plot ifall vi vill ha bar istället /Oscar"
   ]
  },
  {
   "cell_type": "code",
   "execution_count": 5,
   "metadata": {},
   "outputs": [
    {
     "data": {
      "image/png": "[encoded data removed]",
      "text/plain": [
       "<Figure size 432x288 with 1 Axes>"
      ]
     },
     "metadata": {
      "needs_background": "light"
     },
     "output_type": "display_data"
    }
   ],
   "source": [
    "fig = plt.figure()\n",
    "plt.bar(list(zip(*group_counts_norm))[0], list(zip(*group_counts_norm))[1], color='Orange')\n",
    "plt.grid(axis='y')\n",
    "plt.xlabel('Grammatical Group')\n",
    "plt.ylabel('Normalized frequency')\n",
    "plt.title(f'Total amount of categorized words: {total}',fontsize=10)\n",
    "plt.suptitle(\"Frequency of words in grammatical groups\")\n",
    "plt.show()"
   ]
  },
  {
   "cell_type": "code",
   "execution_count": null,
   "metadata": {},
   "outputs": [],
   "source": []
  }
 ],
 "metadata": {
  "kernelspec": {
   "display_name": "Python 3",
   "language": "python",
   "name": "python3"
  },
  "language_info": {
   "codemirror_mode": {
    "name": "ipython",
    "version": 3
   },
   "file_extension": ".py",
   "mimetype": "text/x-python",
   "name": "python",
   "nbconvert_exporter": "python",
   "pygments_lexer": "ipython3",
   "version": "3.8.6"
  }
 },
 "nbformat": 4,
 "nbformat_minor": 2
}
