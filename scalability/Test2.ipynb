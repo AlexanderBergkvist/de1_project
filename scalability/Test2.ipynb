{
 "cells": [
  {
   "cell_type": "code",
   "execution_count": 1,
   "metadata": {},
   "outputs": [
    {
     "name": "stderr",
     "output_type": "stream",
     "text": [
      "[nltk_data] Downloading package punkt to /home/ubuntu/nltk_data...\n",
      "[nltk_data]   Package punkt is already up-to-date!\n",
      "[nltk_data] Downloading package averaged_perceptron_tagger to\n",
      "[nltk_data]     /home/ubuntu/nltk_data...\n",
      "[nltk_data]   Package averaged_perceptron_tagger is already up-to-\n",
      "[nltk_data]       date!\n"
     ]
    },
    {
     "data": {
      "text/plain": [
       "True"
      ]
     },
     "execution_count": 1,
     "metadata": {},
     "output_type": "execute_result"
    }
   ],
   "source": [
    "from pyspark import SparkConf\n",
    "from pyspark import SparkContext\n",
    "from pyspark.sql import SparkSession\n",
    "from operator import add\n",
    "import nltk\n",
    "import json\n",
    "from time import time\n",
    "nltk.download('punkt')\n",
    "nltk.download('averaged_perceptron_tagger')"
   ]
  },
  {
   "cell_type": "code",
   "execution_count": 2,
   "metadata": {},
   "outputs": [],
   "source": [
    "spark_session = SparkSession\\\n",
    "        .builder\\\n",
    "        .master(\"spark://192.168.2.119:7077\") \\\n",
    "        .appName(\"TestApp\")\\\n",
    "        .config(\"spark.dynamicAllocation.enabled\", False)\\\n",
    "        .config(\"spark.shuffle.service.enabled\", False)\\\n",
    "        .getOrCreate()\n",
    "\n",
    "#        .config(\"spark.executor.cores\",2)\\\n",
    "spark_context = spark_session.sparkContext\n",
    "spark_context.setLogLevel(\"INFO\")"
   ]
  },
  {
   "cell_type": "code",
   "execution_count": 3,
   "metadata": {},
   "outputs": [],
   "source": [
    "\"\"\"rdd2 = spark_context.newAPIHadoopFile(\n",
    "    'hdfs://localhost:9000/user/ubuntu/RC_2006-02',\n",
    "    'org.apache.hadoop.mapreduce.lib.input.TextInputFormat',\n",
    "    'org.apache.hadoop.io.LongWritable',\n",
    "    'org.apache.hadoop.io.Text'\n",
    ")\n",
    "\"\"\"\n",
    "rdd = spark_context.textFile('file://///home/ubuntu/RC_2007-12')"
   ]
  },
  {
   "cell_type": "code",
   "execution_count": 4,
   "metadata": {},
   "outputs": [
    {
     "data": {
      "text/plain": [
       "['{\"author\":\"[deleted]\",\"id\":\"c02khd5\",\"subreddit\":\"politics\",\"author_flair_css_class\":null,\"downs\":0,\"body\":\"The fact remains that Chavez does not understand economics. He\\'s imposed [price controls](http://africa.reuters.com/odd/news/usnN30300735.html) and now even toilet paper is short. The government blames hoarding -- yeah, that\\'s what happens when you impose price controls.\\\\n\\\\nThe better way to help poor people is to **give them money**. If you\\'re afraid they\\'ll waste their money on drugs, give them **vouchers**. Further, Chavez [heavily subsidizes oil](http://www.nytimes.com/2007/10/30/world/americas/30venezuela.html?_r=1&amp;oref=slogin), which is actually costing enormous amounts of money.\\\\n\\\\nChavez will never make any progress while he continues to work against economics.\\\\n\\\\nThe \\\\\"ruling elites\\\\\" don\\'t rule the country anymore. I\\'d be more worried about who is holding Chavez and his guys accountable!\\\\n\\\\nBy the way, I\\'m a hardcore liberal, but I understand that economics and progressive policies can be consistent (Gravel understand s this as well -- vouchers for healthcare, taxes on gasoline, ect.)\",\"edited\":false,\"retrieved_on\":1427421031,\"subreddit_id\":\"t5_2cneq\",\"distinguished\":null,\"gilded\":0,\"created_utc\":\"1196467200\",\"name\":\"t1_c02khd5\",\"score_hidden\":false,\"parent_id\":\"t1_c02kdcg\",\"controversiality\":0,\"score\":1,\"author_flair_text\":null,\"link_id\":\"t3_61tiq\",\"archived\":true,\"ups\":1}',\n",
       " '{\"author\":\"[deleted]\",\"author_flair_css_class\":null,\"subreddit\":\"politics\",\"id\":\"c02khd6\",\"downs\":0,\"body\":\"[deleted]\",\"edited\":false,\"retrieved_on\":1427421031,\"subreddit_id\":\"t5_2cneq\",\"distinguished\":null,\"gilded\":0,\"created_utc\":\"1196467207\",\"name\":\"t1_c02khd6\",\"score_hidden\":false,\"parent_id\":\"t3_61u0v\",\"score\":0,\"controversiality\":0,\"author_flair_text\":null,\"link_id\":\"t3_61u0v\",\"archived\":true,\"ups\":0}',\n",
       " '{\"controversiality\":0,\"score\":1,\"parent_id\":\"t3_61utp\",\"link_id\":\"t3_61utp\",\"author_flair_text\":null,\"ups\":1,\"archived\":true,\"author_flair_css_class\":null,\"subreddit\":\"reddit.com\",\"id\":\"c02khd7\",\"author\":\"ScrewDriver\",\"retrieved_on\":1427421031,\"edited\":false,\"body\":\"Why we admired him most` never be afraid risk it all believe in yourself!\\'\",\"downs\":0,\"created_utc\":\"1196467207\",\"gilded\":0,\"subreddit_id\":\"t5_6\",\"distinguished\":null,\"score_hidden\":false,\"name\":\"t1_c02khd7\"}']"
      ]
     },
     "execution_count": 4,
     "metadata": {},
     "output_type": "execute_result"
    }
   ],
   "source": [
    "rdd.take(3)"
   ]
  },
  {
   "cell_type": "code",
   "execution_count": 5,
   "metadata": {},
   "outputs": [],
   "source": [
    "_tstart_stack = []\n",
    "def tic():\n",
    "    _tstart_stack.append(time())\n",
    "def toc(fmt=\"Elapsed: %s s\"):\n",
    "    print (fmt % (time() - _tstart_stack.pop()))"
   ]
  },
  {
   "cell_type": "code",
   "execution_count": null,
   "metadata": {},
   "outputs": [],
   "source": []
  },
  {
   "cell_type": "code",
   "execution_count": 6,
   "metadata": {},
   "outputs": [],
   "source": [
    "gram_groups = dict()\n",
    "gram_groups['Adjectives'] = ['JJ', 'JJR', 'JJS']\n",
    "gram_groups['Nouns'] = ['NN', 'NNS', 'NNP', 'NNPS']\n",
    "gram_groups['Pronouns'] = ['PRP', 'PRP$']\n",
    "gram_groups['Adverbs'] = ['RB', 'RBR', 'RBS']\n",
    "gram_groups['Verb'] = ['VB', 'VBG', 'VBD', 'VBN', 'VBP', 'VBZ']\n",
    "\n",
    "def get_split_body(rdd):\n",
    "    body = rdd\\\n",
    "    .map(lambda line: json.loads(line)['body'].strip().split())\\\n",
    "    \n",
    "    return body\n",
    "\n",
    "def check_gram_grp(tag_tuple):\n",
    "    word, tag = tag_tuple\n",
    "    for supergroup, subgroups in gram_groups.items():\n",
    "                if tag in subgroups:\n",
    "                    return supergroup\n",
    "    return None\n",
    "\n",
    "def categorize_words(split_rdd):\n",
    "    cat_words = split_rdd.flatMap(lambda word: nltk.pos_tag(word))\\\n",
    "    .map(lambda tupl: (check_gram_grp(tupl), 1))\\\n",
    "    .filter(lambda x: x[0] != None)\n",
    "   \n",
    "    return cat_words\n",
    "\n",
    "def final_test(rdd):\n",
    "    split = get_split_body(rdd)\n",
    "    categorized = categorize_words(split)\n",
    "    group_counts = categorized.reduceByKey(add).collect()\n",
    "    return group_counts"
   ]
  },
  {
   "cell_type": "code",
   "execution_count": 7,
   "metadata": {},
   "outputs": [
    {
     "name": "stdout",
     "output_type": "stream",
     "text": [
      "Elapsed: 359.29846382141113 s\n"
     ]
    }
   ],
   "source": [
    "\n",
    "tic()\n",
    "final_test(rdd)\n",
    "toc()"
   ]
  },
  {
   "cell_type": "code",
   "execution_count": 8,
   "metadata": {
    "scrolled": true
   },
   "outputs": [],
   "source": [
    "rdd_2_3 = rdd.sample(False, 2/3)"
   ]
  },
  {
   "cell_type": "code",
   "execution_count": 9,
   "metadata": {},
   "outputs": [
    {
     "name": "stdout",
     "output_type": "stream",
     "text": [
      "Elapsed: 241.35568690299988 s\n"
     ]
    }
   ],
   "source": [
    "tic()\n",
    "final_test(rdd_2_3)\n",
    "toc()"
   ]
  },
  {
   "cell_type": "code",
   "execution_count": 46,
   "metadata": {},
   "outputs": [
    {
     "data": {
      "text/plain": [
       "363390"
      ]
     },
     "execution_count": 46,
     "metadata": {},
     "output_type": "execute_result"
    }
   ],
   "source": [
    "rdd.count()"
   ]
  },
  {
   "cell_type": "code",
   "execution_count": null,
   "metadata": {},
   "outputs": [],
   "source": []
  }
 ],
 "metadata": {
  "kernelspec": {
   "display_name": "Python 3",
   "language": "python",
   "name": "python3"
  },
  "language_info": {
   "codemirror_mode": {
    "name": "ipython",
    "version": 3
   },
   "file_extension": ".py",
   "mimetype": "text/x-python",
   "name": "python",
   "nbconvert_exporter": "python",
   "pygments_lexer": "ipython3",
   "version": "3.6.9"
  }
 },
 "nbformat": 4,
 "nbformat_minor": 2
}
